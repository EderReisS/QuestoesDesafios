{
 "cells": [
  {
   "cell_type": "markdown",
   "id": "42be6182",
   "metadata": {
    "toc": true
   },
   "source": [
    "<h1>Table of Contents<span class=\"tocSkip\"></span></h1>\n",
    "<div class=\"toc\"><ul class=\"toc-item\"><li><span><a href=\"#Questões-comportamentais\" data-toc-modified-id=\"Questões-comportamentais-1\"><span class=\"toc-item-num\">1&nbsp;&nbsp;</span>Questões comportamentais</a></span><ul class=\"toc-item\"><li><span><a href=\"#Descreva-um-projeto-anterior-baseado-em-ciência-de-dados.\" data-toc-modified-id=\"Descreva-um-projeto-anterior-baseado-em-ciência-de-dados.-1.1\"><span class=\"toc-item-num\">1.1&nbsp;&nbsp;</span>Descreva um projeto anterior baseado em ciência de dados.</a></span></li><li><span><a href=\"#Como-você-classifica-as-prioridades-quando-está-envolvido-em-multitarefa\" data-toc-modified-id=\"Como-você-classifica-as-prioridades-quando-está-envolvido-em-multitarefa-1.2\"><span class=\"toc-item-num\">1.2&nbsp;&nbsp;</span>Como você classifica as prioridades quando está envolvido em multitarefa</a></span></li></ul></li><li><span><a href=\"#Questões-técnicas\" data-toc-modified-id=\"Questões-técnicas-2\"><span class=\"toc-item-num\">2&nbsp;&nbsp;</span>Questões técnicas</a></span><ul class=\"toc-item\"><li><span><a href=\"#Qual-é-a-diferença-entre-K-mean-e-EM?\" data-toc-modified-id=\"Qual-é-a-diferença-entre-K-mean-e-EM?-2.1\"><span class=\"toc-item-num\">2.1&nbsp;&nbsp;</span>Qual é a diferença entre K-mean e EM?</a></span></li><li><span><a href=\"#Por-que-usar-a-seleção-de-recursos?-Se-dois-preditores-são-altamente-correlacionados,-qual-é-o-efeito-sobre-os-coeficientes-na-regressão-logística?-Quais-são-os-intervalos-de-confiança-dos-coeficientes?\" data-toc-modified-id=\"Por-que-usar-a-seleção-de-recursos?-Se-dois-preditores-são-altamente-correlacionados,-qual-é-o-efeito-sobre-os-coeficientes-na-regressão-logística?-Quais-são-os-intervalos-de-confiança-dos-coeficientes?-2.2\"><span class=\"toc-item-num\">2.2&nbsp;&nbsp;</span>Por que usar a seleção de recursos? Se dois preditores são altamente correlacionados, qual é o efeito sobre os coeficientes na regressão logística? Quais são os intervalos de confiança dos coeficientes?</a></span></li><li><span><a href=\"#What-is-the-function-of-p-values-in-high-dimensional-linear-regression?\" data-toc-modified-id=\"What-is-the-function-of-p-values-in-high-dimensional-linear-regression?-2.3\"><span class=\"toc-item-num\">2.3&nbsp;&nbsp;</span>What is the function of p-values in high dimensional linear regression?</a></span></li></ul></li><li><span><a href=\"#Estatística-e-Probabilidade\" data-toc-modified-id=\"Estatística-e-Probabilidade-3\"><span class=\"toc-item-num\">3&nbsp;&nbsp;</span>Estatística e Probabilidade</a></span><ul class=\"toc-item\"><li><span><a href=\"#Para-um-tamanho-de-amostra-de-N,-a-margem-de-erro-é-3.-Quantas-amostras-a-mais-precisamos-para-que-a-margem-de-erro-chegue-a-0,3?\" data-toc-modified-id=\"Para-um-tamanho-de-amostra-de-N,-a-margem-de-erro-é-3.-Quantas-amostras-a-mais-precisamos-para-que-a-margem-de-erro-chegue-a-0,3?-3.1\"><span class=\"toc-item-num\">3.1&nbsp;&nbsp;</span>Para um tamanho de amostra de N, a margem de erro é 3. Quantas amostras a mais precisamos para que a margem de erro chegue a 0,3?</a></span></li><li><span><a href=\"#Qual-é-a-suposição-(-assemption)-de-erro-na-regressão-linear?\" data-toc-modified-id=\"Qual-é-a-suposição-(-assemption)-de-erro-na-regressão-linear?-3.2\"><span class=\"toc-item-num\">3.2&nbsp;&nbsp;</span>Qual é a suposição ( assemption) de erro na regressão linear?</a></span></li><li><span><a href=\"#Como-você-pode-saber-se-uma-determinada-moeda-é-tendenciosa?\" data-toc-modified-id=\"Como-você-pode-saber-se-uma-determinada-moeda-é-tendenciosa?-3.3\"><span class=\"toc-item-num\">3.3&nbsp;&nbsp;</span>Como você pode saber se uma determinada moeda é tendenciosa?</a></span></li><li><span><a href=\"#Explique-como-uma-distribuição-de-probabilidade-pode-não-ser-normal-e-dê-um-exemplo-de-cenário.\" data-toc-modified-id=\"Explique-como-uma-distribuição-de-probabilidade-pode-não-ser-normal-e-dê-um-exemplo-de-cenário.-3.4\"><span class=\"toc-item-num\">3.4&nbsp;&nbsp;</span>Explique como uma distribuição de probabilidade pode não ser normal e dê um exemplo de cenário.</a></span></li><li><span><a href=\"#Você-tem-um-baralho-e-pega-uma-carta-aleatoriamente-e-adivinha-qual-é-a-carta.-Qual-é-a-probabilidade-correta-que-você-acha-certo?\" data-toc-modified-id=\"Você-tem-um-baralho-e-pega-uma-carta-aleatoriamente-e-adivinha-qual-é-a-carta.-Qual-é-a-probabilidade-correta-que-você-acha-certo?-3.5\"><span class=\"toc-item-num\">3.5&nbsp;&nbsp;</span>Você tem um baralho e pega uma carta aleatoriamente e adivinha qual é a carta. Qual é a probabilidade correta que você acha certo?</a></span></li><li><span><a href=\"#Qual-é-a-diferença-entre-testes-paramétricos-e-não-paramétricos?\" data-toc-modified-id=\"Qual-é-a-diferença-entre-testes-paramétricos-e-não-paramétricos?-3.6\"><span class=\"toc-item-num\">3.6&nbsp;&nbsp;</span>Qual é a diferença entre testes paramétricos e não paramétricos?</a></span></li></ul></li></ul></div>"
   ]
  },
  {
   "cell_type": "markdown",
   "id": "1b0a1f24",
   "metadata": {},
   "source": [
    "## Questões comportamentais"
   ]
  },
  {
   "cell_type": "markdown",
   "id": "af05fc00",
   "metadata": {},
   "source": [
    "### Descreva um projeto anterior baseado em ciência de dados."
   ]
  },
  {
   "cell_type": "markdown",
   "id": "1107444b",
   "metadata": {},
   "source": [
    "### Como você classifica as prioridades quando está envolvido em multitarefa"
   ]
  },
  {
   "cell_type": "markdown",
   "id": "564c41c2",
   "metadata": {},
   "source": [
    "## Questões técnicas"
   ]
  },
  {
   "cell_type": "markdown",
   "id": "f838f9b9",
   "metadata": {},
   "source": [
    "### Qual é a diferença entre K-mean e EM?"
   ]
  },
  {
   "cell_type": "markdown",
   "id": "c6bbd93c",
   "metadata": {},
   "source": [
    "### Por que usar a seleção de recursos? Se dois preditores são altamente correlacionados, qual é o efeito sobre os coeficientes na regressão logística? Quais são os intervalos de confiança dos coeficientes?"
   ]
  },
  {
   "cell_type": "markdown",
   "id": "564d0bc0",
   "metadata": {},
   "source": [
    "### What is the function of p-values in high dimensional linear regression?"
   ]
  },
  {
   "cell_type": "markdown",
   "id": "c78bdf93",
   "metadata": {},
   "source": [
    "## Estatística e Probabilidade "
   ]
  },
  {
   "cell_type": "markdown",
   "id": "a3653eb0",
   "metadata": {},
   "source": [
    "### Para um tamanho de amostra de N, a margem de erro é 3. Quantas amostras a mais precisamos para que a margem de erro chegue a 0,3?"
   ]
  },
  {
   "cell_type": "markdown",
   "id": "d4ccb0e2",
   "metadata": {},
   "source": [
    "### Qual é a suposição ( assemption) de erro na regressão linear?"
   ]
  },
  {
   "cell_type": "markdown",
   "id": "fb8c9d6c",
   "metadata": {},
   "source": [
    "### Como você pode saber se uma determinada moeda é tendenciosa?"
   ]
  },
  {
   "cell_type": "markdown",
   "id": "3d6f58f3",
   "metadata": {
    "ExecuteTime": {
     "end_time": "2021-08-23T02:29:01.281209Z",
     "start_time": "2021-08-23T02:29:01.275213Z"
    }
   },
   "source": [
    "### Explique como uma distribuição de probabilidade pode não ser normal e dê um exemplo de cenário."
   ]
  },
  {
   "cell_type": "markdown",
   "id": "af00ad27",
   "metadata": {},
   "source": [
    "### Você tem um baralho e pega uma carta aleatoriamente e adivinha qual é a carta. Qual é a probabilidade correta que você acha certo?"
   ]
  },
  {
   "cell_type": "markdown",
   "id": "ef9ade15",
   "metadata": {},
   "source": [
    "### Qual é a diferença entre testes paramétricos e não paramétricos?"
   ]
  }
 ],
 "metadata": {
  "kernelspec": {
   "display_name": "Python 3",
   "language": "python",
   "name": "python3"
  },
  "language_info": {
   "codemirror_mode": {
    "name": "ipython",
    "version": 3
   },
   "file_extension": ".py",
   "mimetype": "text/x-python",
   "name": "python",
   "nbconvert_exporter": "python",
   "pygments_lexer": "ipython3",
   "version": "3.8.8"
  },
  "toc": {
   "base_numbering": 1,
   "nav_menu": {},
   "number_sections": true,
   "sideBar": true,
   "skip_h1_title": true,
   "title_cell": "Table of Contents",
   "title_sidebar": "Contents",
   "toc_cell": true,
   "toc_position": {},
   "toc_section_display": true,
   "toc_window_display": true
  },
  "varInspector": {
   "cols": {
    "lenName": 16,
    "lenType": 16,
    "lenVar": 40
   },
   "kernels_config": {
    "python": {
     "delete_cmd_postfix": "",
     "delete_cmd_prefix": "del ",
     "library": "var_list.py",
     "varRefreshCmd": "print(var_dic_list())"
    },
    "r": {
     "delete_cmd_postfix": ") ",
     "delete_cmd_prefix": "rm(",
     "library": "var_list.r",
     "varRefreshCmd": "cat(var_dic_list()) "
    }
   },
   "position": {
    "height": "344.219px",
    "left": "851px",
    "right": "20px",
    "top": "74px",
    "width": "292.778px"
   },
   "types_to_exclude": [
    "module",
    "function",
    "builtin_function_or_method",
    "instance",
    "_Feature"
   ],
   "window_display": false
  }
 },
 "nbformat": 4,
 "nbformat_minor": 5
}
